{
 "cells": [
  {
   "cell_type": "code",
   "execution_count": 92,
   "metadata": {},
   "outputs": [],
   "source": [
    "import pandas as pd\n",
    "import numpy as np\n",
    "import datetime as dt\n",
    "import time\n",
    "people=[\"Veronica\", \"Jason\", \"Thomas\", \"Rob\", \"Kristina\", \"Marc-Andre\", \"Dave\", \"Salina\", \"Harrison\", \"Alok\", \"Eugene\", \"James\"]"
   ]
  },
  {
   "cell_type": "code",
   "execution_count": 93,
   "metadata": {},
   "outputs": [],
   "source": [
    "df = pd.read_json(\"Data.json\")\n",
    "df = df.transpose()"
   ]
  },
  {
   "cell_type": "code",
   "execution_count": 113,
   "metadata": {},
   "outputs": [],
   "source": [
    "df.columns = [\"device\", \"location\", \"event\", \"guest\"]\n",
    "\n",
    "for person in people:\n",
    "    pdName = str(person+\"_events\")\n",
    "    pdName = pd.DataFrame({\"device\": [], \"location\": [], \"event\": [], \"guest\": []})\n",
    "    for row in df.itertuples(index=True):\n",
    "        if (getattr(row,\"guest\") == str(person)):\n",
    "            pdName.loc[getattr(row,\"Index\")] = [getattr(row,\"device\"),getattr(row,\"location\"),getattr(row,\"event\"),getattr(row,\"guest\")]\n",
    "            "
   ]
  },
  {
   "cell_type": "code",
   "execution_count": 114,
   "metadata": {},
   "outputs": [
    {
     "data": {
      "text/html": [
       "<div>\n",
       "<style scoped>\n",
       "    .dataframe tbody tr th:only-of-type {\n",
       "        vertical-align: middle;\n",
       "    }\n",
       "\n",
       "    .dataframe tbody tr th {\n",
       "        vertical-align: top;\n",
       "    }\n",
       "\n",
       "    .dataframe thead th {\n",
       "        text-align: right;\n",
       "    }\n",
       "</style>\n",
       "<table border=\"1\" class=\"dataframe\">\n",
       "  <thead>\n",
       "    <tr style=\"text-align: right;\">\n",
       "      <th></th>\n",
       "      <th>device</th>\n",
       "      <th>location</th>\n",
       "      <th>event</th>\n",
       "      <th>guest</th>\n",
       "    </tr>\n",
       "  </thead>\n",
       "  <tbody>\n",
       "    <tr>\n",
       "      <th>2020-01-05 02:07:27</th>\n",
       "      <td>door sensor</td>\n",
       "      <td>150</td>\n",
       "      <td>unlocked no keycard</td>\n",
       "      <td>James</td>\n",
       "    </tr>\n",
       "    <tr>\n",
       "      <th>2020-01-05 02:07:32</th>\n",
       "      <td>door sensor</td>\n",
       "      <td>150</td>\n",
       "      <td>door closed</td>\n",
       "      <td>James</td>\n",
       "    </tr>\n",
       "    <tr>\n",
       "      <th>2020-01-05 02:08:07</th>\n",
       "      <td>door sensor</td>\n",
       "      <td>250</td>\n",
       "      <td>unlocked no keycard</td>\n",
       "      <td>James</td>\n",
       "    </tr>\n",
       "    <tr>\n",
       "      <th>2020-01-05 02:08:12</th>\n",
       "      <td>door sensor</td>\n",
       "      <td>250</td>\n",
       "      <td>door closed</td>\n",
       "      <td>James</td>\n",
       "    </tr>\n",
       "    <tr>\n",
       "      <th>2020-01-05 02:09:40</th>\n",
       "      <td>door sensor</td>\n",
       "      <td>250</td>\n",
       "      <td>unlocked no keycard</td>\n",
       "      <td>James</td>\n",
       "    </tr>\n",
       "    <tr>\n",
       "      <th>2020-01-05 02:09:45</th>\n",
       "      <td>door sensor</td>\n",
       "      <td>250</td>\n",
       "      <td>door closed</td>\n",
       "      <td>James</td>\n",
       "    </tr>\n",
       "    <tr>\n",
       "      <th>2020-01-05 02:10:17</th>\n",
       "      <td>door sensor</td>\n",
       "      <td>150</td>\n",
       "      <td>unlocked no keycard</td>\n",
       "      <td>James</td>\n",
       "    </tr>\n",
       "    <tr>\n",
       "      <th>2020-01-05 02:10:21</th>\n",
       "      <td>door sensor</td>\n",
       "      <td>150</td>\n",
       "      <td>door closed</td>\n",
       "      <td>James</td>\n",
       "    </tr>\n",
       "  </tbody>\n",
       "</table>\n",
       "</div>"
      ],
      "text/plain": [
       "                          device location                event  guest\n",
       "2020-01-05 02:07:27  door sensor      150  unlocked no keycard  James\n",
       "2020-01-05 02:07:32  door sensor      150          door closed  James\n",
       "2020-01-05 02:08:07  door sensor      250  unlocked no keycard  James\n",
       "2020-01-05 02:08:12  door sensor      250          door closed  James\n",
       "2020-01-05 02:09:40  door sensor      250  unlocked no keycard  James\n",
       "2020-01-05 02:09:45  door sensor      250          door closed  James\n",
       "2020-01-05 02:10:17  door sensor      150  unlocked no keycard  James\n",
       "2020-01-05 02:10:21  door sensor      150          door closed  James"
      ]
     },
     "execution_count": 114,
     "metadata": {},
     "output_type": "execute_result"
    }
   ],
   "source": []
  },
  {
   "cell_type": "code",
   "execution_count": null,
   "metadata": {},
   "outputs": [],
   "source": []
  }
 ],
 "metadata": {
  "kernelspec": {
   "display_name": "Python 3",
   "language": "python",
   "name": "python3"
  },
  "language_info": {
   "codemirror_mode": {
    "name": "ipython",
    "version": 3
   },
   "file_extension": ".py",
   "mimetype": "text/x-python",
   "name": "python",
   "nbconvert_exporter": "python",
   "pygments_lexer": "ipython3",
   "version": "3.7.3"
  }
 },
 "nbformat": 4,
 "nbformat_minor": 2
}
