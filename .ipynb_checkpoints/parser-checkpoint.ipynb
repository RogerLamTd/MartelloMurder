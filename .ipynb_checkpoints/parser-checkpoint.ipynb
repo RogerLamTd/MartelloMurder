{
 "cells": [
  {
   "cell_type": "code",
   "execution_count": 1,
   "metadata": {},
   "outputs": [],
   "source": [
    "import pandas as pd\n",
    "import numpy as np\n",
    "import datetime as dt\n",
    "import time"
   ]
  },
  {
   "cell_type": "code",
   "execution_count": 2,
   "metadata": {},
   "outputs": [],
   "source": [
    "df = pd.read_json(\"Data.json\")\n",
    "df = df.transpose()\n",
    "df.columns = [\"device\", \"location\", \"event\", \"guest\"]\n",
    "names = []\n",
    "for val in df['guest'].unique():\n",
    "    names.append(val)\n",
    "timeFrame = {df.first_valid_index(), df.last_valid_index()}\n"
   ]
  },
  {
   "cell_type": "code",
   "execution_count": 3,
   "metadata": {},
   "outputs": [],
   "source": [
    "class Person:\n",
    "    def __init__(self, name, df):\n",
    "        self.name = name\n",
    "        self.events = pd.DataFrame({\"device\": [], \"location\": [], \"event\": [], \"guest\": []})\n",
    "        for row in df.itertuples(index=True):\n",
    "            if (getattr(row,\"guest\") == self.name):\n",
    "                self.events.loc[getattr(row,\"Index\")] = [getattr(row,\"device\"),getattr(row,\"location\"),getattr(row,\"event\"),getattr(row,\"guest\")]\n",
    "    "
   ]
  },
  {
   "cell_type": "code",
   "execution_count": 4,
   "metadata": {},
   "outputs": [],
   "source": [
    "people = []\n",
    "for i in names:\n",
    "    people.append(Person(i, df))\n"
   ]
  },
  {
   "cell_type": "code",
   "execution_count": null,
   "metadata": {},
   "outputs": [],
   "source": []
  }
 ],
 "metadata": {
  "kernelspec": {
   "display_name": "Python 3",
   "language": "python",
   "name": "python3"
  },
  "language_info": {
   "codemirror_mode": {
    "name": "ipython",
    "version": 3
   },
   "file_extension": ".py",
   "mimetype": "text/x-python",
   "name": "python",
   "nbconvert_exporter": "python",
   "pygments_lexer": "ipython3",
   "version": "3.7.3"
  }
 },
 "nbformat": 4,
 "nbformat_minor": 2
}
