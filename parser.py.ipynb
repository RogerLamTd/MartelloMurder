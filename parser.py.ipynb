{
 "cells": [
  {
   "cell_type": "code",
   "execution_count": 29,
   "metadata": {},
   "outputs": [],
   "source": [
    "import pandas as pd\n",
    "import numpy as np\n",
    "import datetime as dt\n",
    "import time"
   ]
  },
  {
   "cell_type": "code",
   "execution_count": 55,
   "metadata": {},
   "outputs": [],
   "source": [
    "df = pd.read_json(\"Data.json\")\n",
    "df = df.transpose()"
   ]
  },
  {
   "cell_type": "code",
   "execution_count": 78,
   "metadata": {},
   "outputs": [
    {
     "name": "stdout",
     "output_type": "stream",
     "text": [
      "Pandas(Index=Timestamp('2020-01-04 15:30:01'), device='access point', location='ap1-1', event='new client', guest='Veronica')\n",
      "Pandas(Index=Timestamp('2020-01-04 15:55:00'), device='door sensor', location='110', event='unlocked no keycard', guest='Veronica')\n",
      "Pandas(Index=Timestamp('2020-01-04 15:55:02'), device='access point', location='ap1-4', event='user connected', guest='Veronica')\n",
      "Pandas(Index=Timestamp('2020-01-04 15:55:07'), device='door sensor', location='110', event='door closed', guest='Veronica')\n",
      "Pandas(Index=Timestamp('2020-01-04 15:55:22'), device='access point', location='ap1-2', event='user connected', guest='Veronica')\n",
      "Pandas(Index=Timestamp('2020-01-04 16:01:00'), device='access point', location='ap1-4', event='user connected', guest='Veronica')\n",
      "Pandas(Index=Timestamp('2020-01-04 16:01:20'), device='access point', location='ap1-1', event='user connected', guest='Veronica')\n",
      "Pandas(Index=Timestamp('2020-01-04 16:01:30'), device='door sensor', location='110', event='successful keycard unlock', guest='Veronica')\n",
      "Pandas(Index=Timestamp('2020-01-04 16:01:37'), device='door sensor', location='110', event='door closed', guest='Veronica')\n",
      "Pandas(Index=Timestamp('2020-01-04 17:02:04'), device='door sensor', location='110', event='unlocked no keycard', guest='Veronica')\n",
      "Pandas(Index=Timestamp('2020-01-04 17:02:24'), device='door sensor', location='110', event='door closed', guest='Veronica')\n",
      "Pandas(Index=Timestamp('2020-01-04 17:02:28'), device='access point', location='ap1-4', event='user connected', guest='Veronica')\n",
      "Pandas(Index=Timestamp('2020-01-04 17:02:31'), device='access point', location='ap2-1', event='user connected', guest='Veronica')\n",
      "Pandas(Index=Timestamp('2020-01-04 17:02:45'), device='door sensor', location='210', event='successful keycard unlock', guest='Veronica')\n",
      "Pandas(Index=Timestamp('2020-01-04 17:02:49'), device='door sensor', location='210', event='door closed', guest='Veronica')\n",
      "Pandas(Index=Timestamp('2020-01-04 17:23:12'), device='door sensor', location='210', event='unlocked no keycard', guest='Veronica')\n",
      "Pandas(Index=Timestamp('2020-01-04 17:23:15'), device='door sensor', location='210', event='door closed', guest='Veronica')\n",
      "Pandas(Index=Timestamp('2020-01-04 17:23:17'), device='access point', location='ap1-4', event='user connected', guest='Veronica')\n",
      "Pandas(Index=Timestamp('2020-01-04 17:23:21'), device='access point', location='ap1-2', event='user connected', guest='Veronica')\n",
      "Pandas(Index=Timestamp('2020-01-04 17:23:27'), device='door sensor', location='151', event='successful keycard unlock', guest='Veronica')\n",
      "Pandas(Index=Timestamp('2020-01-04 17:23:30'), device='door sensor', location='151', event='door closed', guest='Veronica')\n",
      "Pandas(Index=Timestamp('2020-01-04 19:01:00'), device='door sensor', location='151', event='unlocked no keycard', guest='Veronica')\n",
      "Pandas(Index=Timestamp('2020-01-04 19:01:07'), device='door sensor', location='151', event='door closed', guest='Veronica')\n",
      "Pandas(Index=Timestamp('2020-01-04 19:01:17'), device='access point', location='ap1-3', event='user connected', guest='Veronica')\n",
      "Pandas(Index=Timestamp('2020-01-04 19:39:50'), device='access point', location='ap1-4', event='user connected', guest='Veronica')\n",
      "Pandas(Index=Timestamp('2020-01-04 19:40:00'), device='door sensor', location='110', event='successful keycard unlock', guest='Veronica')\n",
      "Pandas(Index=Timestamp('2020-01-04 19:40:01'), device='access point', location='ap1-1', event='user connected', guest='Veronica')\n",
      "Pandas(Index=Timestamp('2020-01-04 19:40:07'), device='door sensor', location='110', event='door closed', guest='Veronica')\n",
      "Pandas(Index=Timestamp('2020-01-04 20:30:00'), device='door sensor', location='110', event='unlocked no keycard', guest='Veronica')\n",
      "Pandas(Index=Timestamp('2020-01-04 20:30:02'), device='access point', location='ap1-4', event='user connected', guest='Veronica')\n",
      "Pandas(Index=Timestamp('2020-01-04 20:30:07'), device='door sensor', location='110', event='door closed', guest='Veronica')\n",
      "Pandas(Index=Timestamp('2020-01-04 20:30:22'), device='access point', location='ap1-2', event='user connected', guest='Veronica')\n",
      "Pandas(Index=Timestamp('2020-01-04 20:36:00'), device='access point', location='ap1-4', event='user connected', guest='Veronica')\n",
      "Pandas(Index=Timestamp('2020-01-04 20:36:20'), device='access point', location='ap1-1', event='user connected', guest='Veronica')\n",
      "Pandas(Index=Timestamp('2020-01-04 20:36:30'), device='door sensor', location='110', event='successful keycard unlock', guest='Veronica')\n",
      "Pandas(Index=Timestamp('2020-01-04 20:36:37'), device='door sensor', location='110', event='door closed', guest='Veronica')\n",
      "Pandas(Index=Timestamp('2020-01-04 22:30:00'), device='door sensor', location='110', event='unlocked no keycard', guest='Veronica')\n",
      "Pandas(Index=Timestamp('2020-01-04 22:30:02'), device='access point', location='ap1-4', event='user connected', guest='Veronica')\n",
      "Pandas(Index=Timestamp('2020-01-04 22:30:22'), device='door sensor', location='110', event='door closed', guest='Veronica')\n",
      "Pandas(Index=Timestamp('2020-01-04 22:36:30'), device='access point', location='ap1-2', event='user connected', guest='Veronica')\n",
      "Pandas(Index=Timestamp('2020-01-04 22:51:30'), device='access point', location='ap1-3', event='user connected', guest='Veronica')\n",
      "Pandas(Index=Timestamp('2020-01-05 00:01:03'), device='access point', location='ap2-1', event='user connected', guest='Veronica')\n",
      "Pandas(Index=Timestamp('2020-01-05 00:01:05'), device='door sensor', location='210', event='successful keycard unlock', guest='Veronica')\n",
      "Pandas(Index=Timestamp('2020-01-05 00:02:10'), device='door sensor', location='210', event='door closed', guest='Veronica')\n",
      "Pandas(Index=Timestamp('2020-01-05 00:30:01'), device='door sensor', location='210', event='unlocked no keycard', guest='Veronica')\n",
      "Pandas(Index=Timestamp('2020-01-05 00:30:06'), device='door sensor', location='210', event='door closed', guest='Veronica')\n",
      "Pandas(Index=Timestamp('2020-01-05 00:31:46'), device='access point', location='ap1-2', event='user connected', guest='Veronica')\n",
      "Pandas(Index=Timestamp('2020-01-05 00:31:48'), device='door sensor', location='155', event='successful keycard unlock', guest='Veronica')\n",
      "Pandas(Index=Timestamp('2020-01-05 00:31:52'), device='door sensor', location='155', event='door closed', guest='Veronica')\n",
      "Pandas(Index=Timestamp('2020-01-05 01:30:42'), device='door sensor', location='155', event='unlocked no keycard', guest='Veronica')\n",
      "Pandas(Index=Timestamp('2020-01-05 01:30:47'), device='door sensor', location='155', event='door closed', guest='Veronica')\n",
      "Pandas(Index=Timestamp('2020-01-05 01:30:53'), device='door sensor', location='150', event='unlocked no keycard', guest='Veronica')\n",
      "Pandas(Index=Timestamp('2020-01-05 01:30:55'), device='door sensor', location='150', event='door closed', guest='Veronica')\n",
      "Pandas(Index=Timestamp('2020-01-05 01:33:12'), device='door sensor', location='250', event='successful keycard unlock', guest='Veronica')\n",
      "Pandas(Index=Timestamp('2020-01-05 01:33:18'), device='door sensor', location='250', event='door closed', guest='Veronica')\n",
      "Pandas(Index=Timestamp('2020-01-05 01:33:20'), device='access point', location='ap2-2', event='user connected', guest='Veronica')\n",
      "Pandas(Index=Timestamp('2020-01-05 01:33:23'), device='access point', location='ap2-3', event='user connected', guest='Veronica')\n",
      "Pandas(Index=Timestamp('2020-01-05 01:33:26'), device='access point', location='ap2-1', event='user connected', guest='Veronica')\n",
      "Pandas(Index=Timestamp('2020-01-05 01:34:14'), device='door sensor', location='210', event='successful keycard unlock', guest='Veronica')\n",
      "Pandas(Index=Timestamp('2020-01-05 01:34:16'), device='door sensor', location='210', event='door closed', guest='Veronica')\n",
      "Pandas(Index=Timestamp('2020-01-05 02:08:41'), device='door sensor', location='210', event='unlocked no keycard', guest='Veronica')\n"
     ]
    }
   ],
   "source": [
    "veronica = pd.DataFrame({\"device\": [], \"location\": [], \"event\": [], \"guest\": []})\n",
    "df.columns = [\"device\", \"location\", \"event\", \"guest\"]\n",
    "\n",
    "for row in df.itertuples(index=True):\n",
    "    if (getattr(row,\"guest\") == \"Veronica\"):\n",
    "        print(row)\n",
    "        "
   ]
  },
  {
   "cell_type": "code",
   "execution_count": null,
   "metadata": {},
   "outputs": [],
   "source": []
  },
  {
   "cell_type": "code",
   "execution_count": null,
   "metadata": {},
   "outputs": [],
   "source": []
  }
 ],
 "metadata": {
  "kernelspec": {
   "display_name": "Python 3",
   "language": "python",
   "name": "python3"
  },
  "language_info": {
   "codemirror_mode": {
    "name": "ipython",
    "version": 3
   },
   "file_extension": ".py",
   "mimetype": "text/x-python",
   "name": "python",
   "nbconvert_exporter": "python",
   "pygments_lexer": "ipython3",
   "version": "3.7.3"
  }
 },
 "nbformat": 4,
 "nbformat_minor": 2
}
